{
 "cells": [
  {
   "cell_type": "code",
   "execution_count": 29,
   "metadata": {},
   "outputs": [],
   "source": [
    "import requests\n",
    "import numpy as np\n",
    "import pandas as pd\n",
    "import time\n",
    "from pprint import pprint\n",
    "from matplotlib import pyplot as plt\n",
    "from scipy import stats\n",
    "import psycopg2\n",
    "import time\n",
    "import pandas as pd\n",
    "from sqlalchemy import create_engine\n",
    "import psycopg2.extras as extras\n",
    "import io"
   ]
  },
  {
   "cell_type": "code",
   "execution_count": 30,
   "metadata": {},
   "outputs": [],
   "source": [
    "import psycopg2\n",
    "conn = psycopg2.connect(\"host=localhost dbname=postgres user=postgres password=easy4me\")"
   ]
  },
  {
   "cell_type": "code",
   "execution_count": 31,
   "metadata": {},
   "outputs": [],
   "source": [
    "location_df = pd.read_csv(\"location.csv\")\n",
    "period_df = pd.read_csv(\"period.csv\")\n",
    "product_df = pd.read_csv('product.csv')\n",
    "ccd_df = pd.read_csv('colonycollapsedisorder.csv')\n",
    "inventory_max_df = pd.read_csv('inventorymax.csv')\n",
    "other_causes_df = pd.read_csv('othercauses.csv')\n",
    "pests_df = pd.read_csv('pests.csv')\n",
    "varroa_mites_df = pd.read_csv('varroamites.csv')\n",
    "unknown_df = pd.read_csv('unknown.csv')\n",
    "pesticides_df = pd.read_csv('pesticides.csv')\n",
    "disease_df = pd.read_csv('disease.csv')"
   ]
  },
  {
   "cell_type": "code",
   "execution_count": 100,
   "metadata": {},
   "outputs": [],
   "source": [
    "cur = conn.cursor()\n",
    "cur.execute(\"ROLLBACK\")\n",
    "conn.commit()"
   ]
  },
  {
   "cell_type": "code",
   "execution_count": 33,
   "metadata": {
    "collapsed": true
   },
   "outputs": [
    {
     "ename": "DuplicateTable",
     "evalue": "relation \"product\" already exists\n",
     "output_type": "error",
     "traceback": [
      "\u001b[1;31m---------------------------------------------------------------------------\u001b[0m",
      "\u001b[1;31mDuplicateTable\u001b[0m                            Traceback (most recent call last)",
      "\u001b[1;32m<ipython-input-33-7bf94e3c6d5f>\u001b[0m in \u001b[0;36m<module>\u001b[1;34m\u001b[0m\n\u001b[1;32m----> 1\u001b[1;33m cur.execute(\"\"\"CREATE TABLE product (\n\u001b[0m\u001b[0;32m      2\u001b[0m    \u001b[0msurvey_id\u001b[0m \u001b[0mserial\u001b[0m \u001b[0mPRIMARY\u001b[0m \u001b[0mKEY\u001b[0m\u001b[1;33m,\u001b[0m\u001b[1;33m\u001b[0m\u001b[1;33m\u001b[0m\u001b[0m\n\u001b[0;32m      3\u001b[0m    \u001b[0msector_desc\u001b[0m \u001b[0mVARCHAR\u001b[0m\u001b[1;33m(\u001b[0m\u001b[1;36m50\u001b[0m\u001b[1;33m)\u001b[0m \u001b[0mNOT\u001b[0m \u001b[0mNULL\u001b[0m\u001b[1;33m,\u001b[0m\u001b[1;33m\u001b[0m\u001b[1;33m\u001b[0m\u001b[0m\n\u001b[0;32m      4\u001b[0m    \u001b[0mclass_desc\u001b[0m \u001b[0mVARCHAR\u001b[0m\u001b[1;33m(\u001b[0m\u001b[1;36m50\u001b[0m\u001b[1;33m)\u001b[0m \u001b[0mNOT\u001b[0m \u001b[0mNULL\u001b[0m\u001b[1;33m,\u001b[0m\u001b[1;33m\u001b[0m\u001b[1;33m\u001b[0m\u001b[0m\n\u001b[0;32m      5\u001b[0m    \u001b[0mgroup_desc\u001b[0m \u001b[0mVARCHAR\u001b[0m\u001b[1;33m(\u001b[0m\u001b[1;36m50\u001b[0m\u001b[1;33m)\u001b[0m \u001b[0mNOT\u001b[0m \u001b[0mNULL\u001b[0m\u001b[1;33m,\u001b[0m\u001b[1;33m\u001b[0m\u001b[1;33m\u001b[0m\u001b[0m\n",
      "\u001b[1;31mDuplicateTable\u001b[0m: relation \"product\" already exists\n"
     ]
    }
   ],
   "source": [
    "cur.execute(\"\"\"CREATE TABLE product (\n",
    "   survey_id serial PRIMARY KEY,\n",
    "   sector_desc VARCHAR(50) NOT NULL,\n",
    "   class_desc VARCHAR(50) NOT NULL,\n",
    "   group_desc VARCHAR(50) NOT NULL,\n",
    "   commodity_desc VARCHAR(50) NOT NULL)\"\"\")\n",
    "cur.close()\n",
    "conn.commit()"
   ]
  },
  {
   "cell_type": "code",
   "execution_count": 36,
   "metadata": {
    "collapsed": true
   },
   "outputs": [
    {
     "ename": "DuplicateTable",
     "evalue": "relation \"location\" already exists\n",
     "output_type": "error",
     "traceback": [
      "\u001b[1;31m---------------------------------------------------------------------------\u001b[0m",
      "\u001b[1;31mDuplicateTable\u001b[0m                            Traceback (most recent call last)",
      "\u001b[1;32m<ipython-input-36-41290cc975fd>\u001b[0m in \u001b[0;36m<module>\u001b[1;34m\u001b[0m\n\u001b[1;32m----> 1\u001b[1;33m cur.execute(\"\"\"CREATE TABLE location (\n\u001b[0m\u001b[0;32m      2\u001b[0m    \u001b[0mcountry_name\u001b[0m \u001b[0mVARCHAR\u001b[0m\u001b[1;33m(\u001b[0m\u001b[1;36m50\u001b[0m\u001b[1;33m)\u001b[0m \u001b[0mNOT\u001b[0m \u001b[0mNULL\u001b[0m\u001b[1;33m,\u001b[0m\u001b[1;33m\u001b[0m\u001b[1;33m\u001b[0m\u001b[0m\n\u001b[0;32m      3\u001b[0m    \u001b[0mcountry_code\u001b[0m \u001b[0mINT\u001b[0m \u001b[0mNOT\u001b[0m \u001b[0mNULL\u001b[0m\u001b[1;33m,\u001b[0m\u001b[1;33m\u001b[0m\u001b[1;33m\u001b[0m\u001b[0m\n\u001b[0;32m      4\u001b[0m    \u001b[0mstate_name\u001b[0m \u001b[0mVARCHAR\u001b[0m\u001b[1;33m(\u001b[0m\u001b[1;36m50\u001b[0m\u001b[1;33m)\u001b[0m \u001b[0mNOT\u001b[0m \u001b[0mNULL\u001b[0m\u001b[1;33m,\u001b[0m\u001b[1;33m\u001b[0m\u001b[1;33m\u001b[0m\u001b[0m\n\u001b[0;32m      5\u001b[0m    \u001b[0mstate_alpha\u001b[0m \u001b[0mVARCHAR\u001b[0m\u001b[1;33m(\u001b[0m\u001b[1;36m2\u001b[0m\u001b[1;33m)\u001b[0m \u001b[0mNOT\u001b[0m \u001b[0mNULL\u001b[0m\u001b[1;33m,\u001b[0m\u001b[1;33m\u001b[0m\u001b[1;33m\u001b[0m\u001b[0m\n",
      "\u001b[1;31mDuplicateTable\u001b[0m: relation \"location\" already exists\n"
     ]
    }
   ],
   "source": [
    "cur.execute(\"\"\"CREATE TABLE location (\n",
    "   country_name VARCHAR(50) NOT NULL,\n",
    "   country_code INT NOT NULL,\n",
    "   state_name VARCHAR(50) NOT NULL,\n",
    "   state_alpha VARCHAR(2) NOT NULL,\n",
    "   state_fips_code serial PRIMARY KEY)\"\"\")\n",
    "cur.close()\n",
    "conn.commit()"
   ]
  },
  {
   "cell_type": "code",
   "execution_count": 60,
   "metadata": {},
   "outputs": [],
   "source": [
    "cur.execute(\"\"\"CREATE TABLE period (\n",
    "   freq_desc VARCHAR(50) NOT NULL,\n",
    "   year INT NOT NULL,\n",
    "   load_time TIMESTAMP NOT NULL,\n",
    "   state_name VARCHAR(50) NOT NULL,\n",
    "   survey_id INT NOT NULL\n",
    "   )\"\"\")\n",
    "cur.close()\n",
    "conn.commit()\n"
   ]
  },
  {
   "cell_type": "code",
   "execution_count": 67,
   "metadata": {},
   "outputs": [],
   "source": [
    "cur.execute(\"\"\"CREATE TABLE ccd (\n",
    "   Value INT NOT NULL,\n",
    "   domain_desc VARCHAR(250) NOT NULL,\n",
    "   unit_desc VARCHAR(250) NOT NULL,\n",
    "   short_desc VARCHAR(250) NOT NULL,\n",
    "   statisticcat_desc VARCHAR(250) NOT NULL,\n",
    "   survey_id serial PRIMARY KEY\n",
    "   )\"\"\")\n",
    "cur.close()\n",
    "conn.commit()\n"
   ]
  },
  {
   "cell_type": "code",
   "execution_count": 73,
   "metadata": {},
   "outputs": [],
   "source": [
    "cur.execute(\"\"\"CREATE TABLE inventory_max (\n",
    "   Value INT NOT NULL,\n",
    "   domain_desc VARCHAR(250) NOT NULL,\n",
    "   unit_desc VARCHAR(250) NOT NULL,\n",
    "   short_desc VARCHAR(250) NOT NULL,\n",
    "   statisticcat_desc VARCHAR(250) NOT NULL,\n",
    "   survey_id serial PRIMARY KEY\n",
    "   )\"\"\")\n",
    "cur.close()\n",
    "conn.commit()"
   ]
  },
  {
   "cell_type": "code",
   "execution_count": 83,
   "metadata": {},
   "outputs": [],
   "source": [
    "cur.execute(\"\"\"CREATE TABLE other_causes (\n",
    "   Value DECIMAL NOT NULL,\n",
    "   domain_desc VARCHAR(250) NOT NULL,\n",
    "   unit_desc VARCHAR(250) NOT NULL,\n",
    "   short_desc VARCHAR(250) NOT NULL,\n",
    "   statisticcat_desc VARCHAR(250) NOT NULL,\n",
    "   survey_id serial PRIMARY KEY\n",
    "   )\"\"\")\n",
    "cur.close()\n",
    "conn.commit()"
   ]
  },
  {
   "cell_type": "code",
   "execution_count": 91,
   "metadata": {},
   "outputs": [],
   "source": [
    "cur.execute(\"\"\"CREATE TABLE pests (\n",
    "   Value DECIMAL NOT NULL,\n",
    "   domain_desc VARCHAR(250) NOT NULL,\n",
    "   unit_desc VARCHAR(250) NOT NULL,\n",
    "   short_desc VARCHAR(250) NOT NULL,\n",
    "   statisticcat_desc VARCHAR(250) NOT NULL,\n",
    "   survey_id serial PRIMARY KEY\n",
    "   )\"\"\")\n",
    "cur.close()\n",
    "conn.commit()"
   ]
  },
  {
   "cell_type": "code",
   "execution_count": 93,
   "metadata": {},
   "outputs": [],
   "source": [
    "cur.execute(\"\"\"CREATE TABLE varroa_mites (\n",
    "   Value DECIMAL NOT NULL,\n",
    "   domain_desc VARCHAR(250) NOT NULL,\n",
    "   unit_desc VARCHAR(250) NOT NULL,\n",
    "   short_desc VARCHAR(250) NOT NULL,\n",
    "   statisticcat_desc VARCHAR(250) NOT NULL,\n",
    "   survey_id serial PRIMARY KEY\n",
    "   )\"\"\")\n",
    "cur.close()\n",
    "conn.commit()"
   ]
  },
  {
   "cell_type": "code",
   "execution_count": 95,
   "metadata": {},
   "outputs": [],
   "source": [
    "cur.execute(\"\"\"CREATE TABLE unknown (\n",
    "   Value DECIMAL NOT NULL,\n",
    "   domain_desc VARCHAR(250) NOT NULL,\n",
    "   unit_desc VARCHAR(250) NOT NULL,\n",
    "   short_desc VARCHAR(250) NOT NULL,\n",
    "   statisticcat_desc VARCHAR(250) NOT NULL,\n",
    "   survey_id serial PRIMARY KEY\n",
    "   )\"\"\")\n",
    "cur.close()\n",
    "conn.commit()"
   ]
  },
  {
   "cell_type": "code",
   "execution_count": 98,
   "metadata": {},
   "outputs": [],
   "source": [
    "cur.execute(\"\"\"CREATE TABLE pesticides (\n",
    "   Value DECIMAL NOT NULL,\n",
    "   domain_desc VARCHAR(250) NOT NULL,\n",
    "   unit_desc VARCHAR(250) NOT NULL,\n",
    "   short_desc VARCHAR(250) NOT NULL,\n",
    "   statisticcat_desc VARCHAR(250) NOT NULL,\n",
    "   survey_id serial PRIMARY KEY\n",
    "   )\"\"\")\n",
    "cur.close()\n",
    "conn.commit()"
   ]
  },
  {
   "cell_type": "code",
   "execution_count": 101,
   "metadata": {},
   "outputs": [],
   "source": [
    "cur.execute(\"\"\"CREATE TABLE disease (\n",
    "   Value DECIMAL NOT NULL,\n",
    "   domain_desc VARCHAR(250) NOT NULL,\n",
    "   unit_desc VARCHAR(250) NOT NULL,\n",
    "   short_desc VARCHAR(250) NOT NULL,\n",
    "   statisticcat_desc VARCHAR(250) NOT NULL,\n",
    "   survey_id serial PRIMARY KEY\n",
    "   )\"\"\")\n",
    "cur.close()\n",
    "conn.commit()"
   ]
  },
  {
   "cell_type": "code",
   "execution_count": 13,
   "metadata": {},
   "outputs": [],
   "source": [
    "with open('product.csv', 'r') as f:\n",
    "    # Notice that we don't need the `csv` module.\n",
    "    next(f) # Skip the header row.\n",
    "    cur.copy_from(f, 'product', sep=',')\n",
    "\n",
    "conn.commit()"
   ]
  },
  {
   "cell_type": "code",
   "execution_count": 44,
   "metadata": {},
   "outputs": [],
   "source": [
    "cur=conn.cursor()\n",
    "with open('location.csv', 'r') as f:\n",
    "    # Notice that we don't need the `csv` module.\n",
    "    next(f) # Skip the header row.\n",
    "    cur.copy_from(f, 'location', sep=',')\n",
    "\n",
    "conn.commit()"
   ]
  },
  {
   "cell_type": "code",
   "execution_count": 62,
   "metadata": {},
   "outputs": [],
   "source": [
    "cur=conn.cursor()\n",
    "with open('period.csv', 'r') as f:\n",
    "    # Notice that we don't need the `csv` module.\n",
    "    next(f) # Skip the header row.\n",
    "    cur.copy_from(f, 'period', sep=',')\n",
    "\n",
    "conn.commit()"
   ]
  },
  {
   "cell_type": "code",
   "execution_count": 72,
   "metadata": {},
   "outputs": [],
   "source": [
    "cur=conn.cursor()\n",
    "with open('colonycollapsedisorder.csv', 'r') as f:\n",
    "    # Notice that we don't need the `csv` module.\n",
    "    next(f) # Skip the header row.\n",
    "    cur.copy_from(f, 'ccd', sep=',')\n",
    "\n",
    "conn.commit()"
   ]
  },
  {
   "cell_type": "code",
   "execution_count": 76,
   "metadata": {},
   "outputs": [],
   "source": [
    "cur=conn.cursor()\n",
    "with open('inventorymax.csv', 'r') as f:\n",
    "    # Notice that we don't need the `csv` module.\n",
    "    next(f) # Skip the header row.\n",
    "    cur.copy_from(f, 'inventory_max', sep=',')\n",
    "\n",
    "conn.commit()"
   ]
  },
  {
   "cell_type": "code",
   "execution_count": 90,
   "metadata": {
    "scrolled": true
   },
   "outputs": [],
   "source": [
    "cur=conn.cursor()\n",
    "with open('othercauses.csv', 'r') as f:\n",
    "    # Notice that we don't need the `csv` module.\n",
    "    next(f) # Skip the header row.\n",
    "    cur.copy_from(f, 'other_causes', sep=',')\n",
    "\n",
    "conn.commit()"
   ]
  },
  {
   "cell_type": "code",
   "execution_count": 92,
   "metadata": {},
   "outputs": [],
   "source": [
    "cur=conn.cursor()\n",
    "with open('pests.csv', 'r') as f:\n",
    "    # Notice that we don't need the `csv` module.\n",
    "    next(f) # Skip the header row.\n",
    "    cur.copy_from(f, 'pests', sep=',')\n",
    "\n",
    "conn.commit()"
   ]
  },
  {
   "cell_type": "code",
   "execution_count": 94,
   "metadata": {},
   "outputs": [],
   "source": [
    "cur=conn.cursor()\n",
    "with open('varroamites.csv', 'r') as f:\n",
    "    # Notice that we don't need the `csv` module.\n",
    "    next(f) # Skip the header row.\n",
    "    cur.copy_from(f, 'varroa_mites', sep=',')\n",
    "\n",
    "conn.commit()"
   ]
  },
  {
   "cell_type": "code",
   "execution_count": 102,
   "metadata": {},
   "outputs": [],
   "source": [
    "cur=conn.cursor()\n",
    "with open('unknown.csv', 'r') as f:\n",
    "    # Notice that we don't need the `csv` module.\n",
    "    next(f) # Skip the header row.\n",
    "    cur.copy_from(f, 'unknown', sep=',')\n",
    "\n",
    "conn.commit()"
   ]
  },
  {
   "cell_type": "code",
   "execution_count": 103,
   "metadata": {},
   "outputs": [],
   "source": [
    "cur=conn.cursor()\n",
    "with open('pesticides.csv', 'r') as f:\n",
    "    # Notice that we don't need the `csv` module.\n",
    "    next(f) # Skip the header row.\n",
    "    cur.copy_from(f, 'pesticides', sep=',')\n",
    "\n",
    "conn.commit()"
   ]
  },
  {
   "cell_type": "code",
   "execution_count": 104,
   "metadata": {},
   "outputs": [],
   "source": [
    "cur=conn.cursor()\n",
    "with open('disease.csv', 'r') as f:\n",
    "    # Notice that we don't need the `csv` module.\n",
    "    next(f) # Skip the header row.\n",
    "    cur.copy_from(f, 'disease', sep=',')\n",
    "\n",
    "conn.commit()"
   ]
  }
 ],
 "metadata": {
  "kernelspec": {
   "display_name": "Python 3",
   "language": "python",
   "name": "python3"
  },
  "language_info": {
   "codemirror_mode": {
    "name": "ipython",
    "version": 3
   },
   "file_extension": ".py",
   "mimetype": "text/x-python",
   "name": "python",
   "nbconvert_exporter": "python",
   "pygments_lexer": "ipython3",
   "version": "3.8.5"
  }
 },
 "nbformat": 4,
 "nbformat_minor": 4
}
